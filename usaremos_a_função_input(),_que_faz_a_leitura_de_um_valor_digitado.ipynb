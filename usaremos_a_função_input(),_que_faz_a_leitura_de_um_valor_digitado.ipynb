{
  "nbformat": 4,
  "nbformat_minor": 0,
  "metadata": {
    "colab": {
      "provenance": [],
      "authorship_tag": "ABX9TyPorbOPz++qXevlcL4HNj/+",
      "include_colab_link": true
    },
    "kernelspec": {
      "name": "python3",
      "display_name": "Python 3"
    },
    "language_info": {
      "name": "python"
    }
  },
  "cells": [
    {
      "cell_type": "markdown",
      "metadata": {
        "id": "view-in-github",
        "colab_type": "text"
      },
      "source": [
        "<a href=\"https://colab.research.google.com/github/thiagoti2025/Cartilhas-Python/blob/main/usaremos_a_fun%C3%A7%C3%A3o_input()%2C_que_faz_a_leitura_de_um_valor_digitado.ipynb\" target=\"_parent\"><img src=\"https://colab.research.google.com/assets/colab-badge.svg\" alt=\"Open In Colab\"/></a>"
      ]
    },
    {
      "cell_type": "code",
      "execution_count": 6,
      "metadata": {
        "colab": {
          "base_uri": "https://localhost:8080/"
        },
        "id": "oDrXQADa7iPm",
        "outputId": "de3a839b-c96b-4ace-a9f7-35048e2f3599"
      },
      "outputs": [
        {
          "output_type": "stream",
          "name": "stdout",
          "text": [
            "thiago\n",
            "thiago\n",
            "Olá,thiago,bem-vindo à disciplina de programação. Parabéns pelo seu primeiro hello word\n",
            "thiago,bem-vindo à disciplina de programação. Parabéns pelo seu primeiro hello world\n"
          ]
        }
      ],
      "source": [
        "nome= input()\n",
        "print(nome)\n",
        "#formatadores de caracteres\n",
        "print(\"Olá,%s, bem-vindo à disciplina de programação. Parabéns pelo seu primeiro hello word\"%(nome))\n",
        "#F-string\n",
        "print(f\"{nome}, bem-vindo à disciplina de programação. Parabéns pelo seu primeiro hello world\")\n",
        "\n",
        "\n"
      ]
    }
  ]
}