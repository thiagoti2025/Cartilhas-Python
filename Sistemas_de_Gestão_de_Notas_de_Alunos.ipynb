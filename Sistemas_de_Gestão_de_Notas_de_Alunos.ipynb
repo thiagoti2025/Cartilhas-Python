{
  "nbformat": 4,
  "nbformat_minor": 0,
  "metadata": {
    "colab": {
      "provenance": [],
      "authorship_tag": "ABX9TyMz496Wc83gny7YFyxIho1X",
      "include_colab_link": true
    },
    "kernelspec": {
      "name": "python3",
      "display_name": "Python 3"
    },
    "language_info": {
      "name": "python"
    }
  },
  "cells": [
    {
      "cell_type": "markdown",
      "metadata": {
        "id": "view-in-github",
        "colab_type": "text"
      },
      "source": [
        "<a href=\"https://colab.research.google.com/github/thiagoti2025/Cartilhas-Python/blob/main/Sistemas_de_Gest%C3%A3o_de_Notas_de_Alunos.ipynb\" target=\"_parent\"><img src=\"https://colab.research.google.com/assets/colab-badge.svg\" alt=\"Open In Colab\"/></a>"
      ]
    },
    {
      "cell_type": "code",
      "execution_count": 19,
      "metadata": {
        "colab": {
          "base_uri": "https://localhost:8080/"
        },
        "id": "Sk2zA_bHsRMk",
        "outputId": "e25c041d-f9fd-4dd0-9808-c9dc89abcf41"
      },
      "outputs": [
        {
          "output_type": "stream",
          "name": "stdout",
          "text": [
            "Bem-vindo ao sistema de gestão de notas de alunos.\n",
            "Digite '0' para parar o cadastro a qualquer momento\n",
            "Digite a nota do aluno:6.5\n",
            "Nota 6.5 adicionada com sucesso!\n",
            "Digite a nota do aluno:6\n",
            "Nota 6.0 adicionada com sucesso!\n",
            "Digite a nota do aluno:7\n",
            "Nota 7.0 adicionada com sucesso!\n",
            "Digite a nota do aluno:7.5\n",
            "Nota 7.5 adicionada com sucesso!\n",
            "Digite a nota do aluno:0\n",
            "\n",
            "Notas cadastradas:\n",
            "\n",
            "---Relatório Final---\n",
            "Notas inseridas: [6.5, 6.0, 7.0, 7.5]\n",
            "Média final: 6.75\n",
            "Situação do aluno: Reprovado\n",
            "-------------------\n"
          ]
        }
      ],
      "source": [
        "# Nome do Experimento: Sistemas de Gestão de Notas de Alunos\n",
        "# 1. Cadastro de Notas\n",
        "\n",
        "# A palavra-chave 'def' cria uma função.\n",
        "def cadastrar_notas():\n",
        "\n",
        "#Criamos uma lista para armazenar as notas\n",
        "  notas=[]\n",
        "\n",
        "# O comando 'print' exibe mensagens na tela para o usuário.\n",
        "  print(\"Bem-vindo ao sistema de gestão de notas de alunos.\")\n",
        "  print(\"Digite '0' para parar o cadastro a qualquer momento\")\n",
        "\n",
        "# O loop 'while True' faz com que o código abaixo dele se repita para sempre,\n",
        "  while True:\n",
        " # O bloco 'try' tenta executar um código que pode dar erro (como se o usuário digitasse texto)\n",
        "      try:\n",
        " # O 'input' pede para o usuário digitar algo. O 'float' converte o que foi digitado em um número com casas decimais.\n",
        "          nota = float(input(\"Digite a nota do aluno:\"))\n",
        " # A estrutura 'if' toma uma decisão. Se a nota for igual a 0, ele executa o que está dentro do 'if'.\n",
        "          if nota == 0:\n",
        " # O comando 'break' sai imediatamente do loop 'while' e vai para a linha de código que está depois dele.\n",
        "              break\n",
        "# Esta linha 'notas.append(nota)' está depois do 'break' e nunca será executada.\n",
        "          notas.append(nota)\n",
        " # O 'f' na frente da string é um f-string. Ele nos permite colocar a variável 'nota' diretamente na mensagem.\n",
        "          print(f\"Nota {nota} adicionada com sucesso!\")\n",
        " # O 'except' pega o erro. Se o 'try' der um erro (por exemplo, o usuário digitar \"abc\"), este bloco de código é executado.\n",
        "      except ValueError:\n",
        "          print(\"Entrada inválida. Por favor, digite um número válido.\")\n",
        "# O 'continue' faz o loop 'while' pular para a próxima repetição imediatamente, ignorando qualquer código que esteja abaixo dele.\n",
        "          continue\n",
        "\n",
        "  print(\"\\nNotas cadastradas:\")\n",
        "\n",
        "# O 'len' conta quantos itens a lista 'notas' tem. Se for zero, o primeiro bloco é executado.\n",
        "  if len(notas) == 0:\n",
        "    print(\"Nenhuma nota foi cadastrada. A média não pode ser calculada.\")\n",
        "    media=0\n",
        "    situacao=\"Reprovado\"\n",
        "# O 'else' é o \"plano B\". Se o 'if' for falso (ou seja, se a lista não estiver vazia), ele executa o código abaixo.\n",
        "  else:\n",
        " # A função 'sum' soma todos os números na lista 'notas'.\n",
        "    soma = sum(notas)\n",
        "    numero_notas = len(notas)\n",
        " # A média é a soma dividida pelo número de notas.\n",
        "    media = soma / numero_notas\n",
        "\n",
        "    if media >= 7:\n",
        "        situacao = \"Aprovado\"\n",
        "    else:\n",
        "        situacao = \"Reprovado\"\n",
        "\n",
        "# As linhas abaixo imprimem o relatório final. Elas estão dentro do 'else' principal,\n",
        "# o que significa que só serão executadas se houver notas na lista.\n",
        "    print(\"\\n---Relatório Final---\")\n",
        "    print(f\"Notas inseridas: {notas}\")\n",
        "    print(f\"Média final: {media:.2f}\")\n",
        "    print(f\"Situação do aluno: {situacao}\")\n",
        "    print(\"-------------------\")\n",
        "\n",
        "cadastrar_notas()"
      ]
    }
  ]
}