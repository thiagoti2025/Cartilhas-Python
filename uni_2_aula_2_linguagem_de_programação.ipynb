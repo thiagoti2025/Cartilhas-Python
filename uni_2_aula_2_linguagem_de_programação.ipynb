{
  "nbformat": 4,
  "nbformat_minor": 0,
  "metadata": {
    "colab": {
      "provenance": [],
      "authorship_tag": "ABX9TyMVoshmOE+1IVnbDFSKd96h",
      "include_colab_link": true
    },
    "kernelspec": {
      "name": "python3",
      "display_name": "Python 3"
    },
    "language_info": {
      "name": "python"
    }
  },
  "cells": [
    {
      "cell_type": "markdown",
      "metadata": {
        "id": "view-in-github",
        "colab_type": "text"
      },
      "source": [
        "<a href=\"https://colab.research.google.com/github/thiagoti2025/Cartilhas-Python/blob/main/uni_2_aula_2_linguagem_de_programa%C3%A7%C3%A3o.ipynb\" target=\"_parent\"><img src=\"https://colab.research.google.com/assets/colab-badge.svg\" alt=\"Open In Colab\"/></a>"
      ]
    },
    {
      "cell_type": "code",
      "execution_count": 2,
      "metadata": {
        "colab": {
          "base_uri": "https://localhost:8080/"
        },
        "id": "nMfqN92DxNRu",
        "outputId": "c8c0518b-af41-4c6e-b6ff-06bcbc6366d5"
      },
      "outputs": [
        {
          "output_type": "stream",
          "name": "stdout",
          "text": [
            "onjunto após adicionar elementos: {10, 20, 30}\n",
            "20 está no conjunto.\n",
            "Conjunto após remover o elemento 20; {10, 30}\n"
          ]
        }
      ],
      "source": [
        "# Objetos do tipo set\n",
        "# Criando um conjunto vazio\n",
        "meu_conjunto = set()\n",
        "# Adicionando elementos ao conjunto\n",
        "meu_conjunto.add(10)\n",
        "meu_conjunto.add(20)\n",
        "meu_conjunto.add(30)\n",
        "# imprimindo o conjunto\n",
        "print(\"onjunto após adicionar elementos:\", meu_conjunto)\n",
        "# Verificando se um elemento está no conjunto\n",
        "elemento = 20\n",
        "if elemento in meu_conjunto:\n",
        "    print(f\"{elemento} está no conjunto.\")\n",
        "else:\n",
        "    print(f\"{elemento} não está no conjunto.\")\n",
        "# Removendo elementos do conjunto\n",
        "meu_conjunto.remove(20 )\n",
        "# imprimindo o conjunto atualizado\n",
        "print(\"Conjunto após remover o elemento 20;\", meu_conjunto)\n",
        "\n",
        "#resultado"
      ]
    },
    {
      "cell_type": "code",
      "source": [
        "# Objetos do tipo mapping\n",
        "# Exemplo 1 - Criação de um dicionário vazio, seguidode atribuição de chaves e valores\n",
        "dici_1 = {}\n",
        "dici_1['nome'] = \"Maria\"\n",
        "dici_1['idade'] = 25\n",
        "dici_1['sexo'] = \"Feminino\"\n",
        "# Exemplo 2 - Criação de um dicionário com pares chave: valor\n",
        "dici_2 = {'nome': 'Maria', 'idade': 25, 'sexo': 'Feminino'}\n",
        "# Exemplo 3 - Criação de um dicionário com uma lista de tuplas representando pares chave: valor\n",
        "dici_3 = dict([('nome', 'Maria'), ('idade', 25), ('sexo', 'Feminino')])\n",
        "# Exemplo 4 - Criação de um dicionário usando a função built-in zip() e duas listas, uma para as chaves e outra para os valores\n",
        "dici_4 = dict(zip(['nome', 'idade', 'sexo'], ['Maria', 25, 'Feminino']))\n",
        "# teste se todas as construções resultam em objetos iguais\n",
        "print(dici_1 == dici_2 == dici_3 == dici_4) # Deve imprimir True\n",
        "print(dici_1)\n",
        "# Resultado\n",
        "True\n",
        "{'nome': 'Maria', 'idade': 25, 'sexo': 'Feminino'}\n"
      ],
      "metadata": {
        "colab": {
          "base_uri": "https://localhost:8080/",
          "height": 280
        },
        "collapsed": true,
        "id": "4yoyE5BS0BrX",
        "outputId": "a44fe72f-3d16-4acb-b34c-05c2ea7a119c"
      },
      "execution_count": 24,
      "outputs": [
        {
          "output_type": "error",
          "ename": "TypeError",
          "evalue": "'dict' object is not callable",
          "traceback": [
            "\u001b[0;31m---------------------------------------------------------------------------\u001b[0m",
            "\u001b[0;31mTypeError\u001b[0m                                 Traceback (most recent call last)",
            "\u001b[0;32m/tmp/ipython-input-1921338997.py\u001b[0m in \u001b[0;36m<cell line: 0>\u001b[0;34m()\u001b[0m\n\u001b[1;32m      8\u001b[0m \u001b[0mdici_2\u001b[0m \u001b[0;34m=\u001b[0m \u001b[0;34m{\u001b[0m\u001b[0;34m'nome'\u001b[0m\u001b[0;34m:\u001b[0m \u001b[0;34m'Maria'\u001b[0m\u001b[0;34m,\u001b[0m \u001b[0;34m'idade'\u001b[0m\u001b[0;34m:\u001b[0m \u001b[0;36m25\u001b[0m\u001b[0;34m,\u001b[0m \u001b[0;34m'sexo'\u001b[0m\u001b[0;34m:\u001b[0m \u001b[0;34m'Feminino'\u001b[0m\u001b[0;34m}\u001b[0m\u001b[0;34m\u001b[0m\u001b[0;34m\u001b[0m\u001b[0m\n\u001b[1;32m      9\u001b[0m \u001b[0;31m# Exemplo 3 - Criação de um dicionário com uma lista de tuplas representando pares chave: valor\u001b[0m\u001b[0;34m\u001b[0m\u001b[0;34m\u001b[0m\u001b[0m\n\u001b[0;32m---> 10\u001b[0;31m \u001b[0mdici_3\u001b[0m \u001b[0;34m=\u001b[0m \u001b[0mdict\u001b[0m\u001b[0;34m(\u001b[0m\u001b[0;34m[\u001b[0m\u001b[0;34m(\u001b[0m\u001b[0;34m'nome'\u001b[0m\u001b[0;34m,\u001b[0m \u001b[0;34m'Maria'\u001b[0m\u001b[0;34m)\u001b[0m\u001b[0;34m,\u001b[0m \u001b[0;34m(\u001b[0m\u001b[0;34m'idade'\u001b[0m\u001b[0;34m,\u001b[0m \u001b[0;36m25\u001b[0m\u001b[0;34m)\u001b[0m\u001b[0;34m,\u001b[0m \u001b[0;34m(\u001b[0m\u001b[0;34m'sexo'\u001b[0m\u001b[0;34m,\u001b[0m \u001b[0;34m'Feminino'\u001b[0m\u001b[0;34m)\u001b[0m\u001b[0;34m]\u001b[0m\u001b[0;34m)\u001b[0m\u001b[0;34m\u001b[0m\u001b[0;34m\u001b[0m\u001b[0m\n\u001b[0m\u001b[1;32m     11\u001b[0m \u001b[0;31m# Exemplo 4 - Criação de um dicionário usando a função built-in zip() e duas listas, uma para as chaves e outra para os valores\u001b[0m\u001b[0;34m\u001b[0m\u001b[0;34m\u001b[0m\u001b[0m\n\u001b[1;32m     12\u001b[0m \u001b[0mdici_4\u001b[0m \u001b[0;34m=\u001b[0m \u001b[0mdict\u001b[0m\u001b[0;34m(\u001b[0m\u001b[0mzip\u001b[0m\u001b[0;34m(\u001b[0m\u001b[0;34m[\u001b[0m\u001b[0;34m'nome'\u001b[0m\u001b[0;34m,\u001b[0m \u001b[0;34m'idade'\u001b[0m\u001b[0;34m,\u001b[0m \u001b[0;34m'sexo'\u001b[0m\u001b[0;34m]\u001b[0m\u001b[0;34m,\u001b[0m \u001b[0;34m[\u001b[0m\u001b[0;34m'Maria'\u001b[0m\u001b[0;34m,\u001b[0m \u001b[0;36m25\u001b[0m\u001b[0;34m,\u001b[0m \u001b[0;34m'Feminino'\u001b[0m\u001b[0;34m]\u001b[0m\u001b[0;34m)\u001b[0m\u001b[0;34m)\u001b[0m\u001b[0;34m\u001b[0m\u001b[0;34m\u001b[0m\u001b[0m\n",
            "\u001b[0;31mTypeError\u001b[0m: 'dict' object is not callable"
          ]
        }
      ]
    },
    {
      "cell_type": "code",
      "source": [],
      "metadata": {
        "id": "Z-FM7hfVAe8S"
      },
      "execution_count": null,
      "outputs": []
    },
    {
      "cell_type": "code",
      "source": [
        "# Objetos do tipo array NumPy\n",
        "# Importe a biblioteca NumPy\n",
        "import numpy as np\n",
        "\n",
        "# Crie um array NumPy de números inteiros\n",
        "my_array = np.array([1, 2, 3, 4, 5])\n",
        "\n",
        "# Imprima o array\n",
        "print(\"Array original:\")\n",
        "print(my_array)\n",
        "\n",
        "# Realize operações matemáticas com o array\n",
        "squared_array = my_array ** 2  # Eleva cada elemento ao quadrado\n",
        "sum_of_elements = np.sum(my_array)  # Calcula a soma de todos os elementos\n",
        "\n",
        "# Imprima os resultados\n",
        "print(\"\\nArray ao quadrado:\")\n",
        "print(squared_array)\n",
        "print(\"\\nSoma dos elementos:\")\n",
        "print(sum_of_elements)\n",
        "\n",
        "# Acesse elementos do array\n",
        "element_at_index_2 = my_array[2]  # Acessa o elemento no índice 2\n",
        "print(\"\\nElemento no índice 2:\", element_at_index_2)\n",
        "\n",
        "# Resultado"
      ],
      "metadata": {
        "colab": {
          "base_uri": "https://localhost:8080/"
        },
        "id": "1xWsLMTgRPA7",
        "outputId": "98ceb180-dd27-4caa-9141-508044f487cf"
      },
      "execution_count": 28,
      "outputs": [
        {
          "output_type": "stream",
          "name": "stdout",
          "text": [
            "Array original:\n",
            "[1 2 3 4 5]\n",
            "\n",
            "Array ao quadrado:\n",
            "[ 1  4  9 16 25]\n",
            "\n",
            "Soma dos elementos:\n",
            "15\n",
            "\n",
            "Elemento no índice 2: 3\n"
          ]
        }
      ]
    },
    {
      "cell_type": "code",
      "source": [],
      "metadata": {
        "id": "FAVZi43qVSA1"
      },
      "execution_count": null,
      "outputs": []
    },
    {
      "cell_type": "code",
      "source": [
        "#Vamos Exercitar?\n",
        "#Importe as bibliotecas necessárias\n",
        "import numpy as np\n",
        "#Dados dos participantes\n",
        "participantes =[\n",
        "  {\n",
        "      \"nome\": \"Thiago\",\n",
        "      \"localizacao\": \"Brazil\",\n",
        "      \"afiliacao\": \"Universidade anhanguera\",\n",
        "      \"interesses\": [\"Programação\", \"IA\"]\n",
        "  },\n",
        "  {\n",
        "      \"nome\": \"Lucas\",\n",
        "      \"localizacao\": \"Brazil\",\n",
        "      \"afiliacao\": \"Universidade anhanguera\",\n",
        "      \"interesses\": [\"Programação\", \"IA\"]\n",
        "      },\n",
        "  {\n",
        "      \"nome\": \"Gabriel\",\n",
        "      \"localizacao\": \"Brazil\",\n",
        "      \"afiliacao\": \"Universidade anhanguera\",\n",
        "      \"interesses\": [\"Programação\", \"IA\"]\n",
        "  }\n",
        "# Adicione mais participantes conforme necessário\n",
        "]\n",
        "# Usando sets para identificar diferentes regiões dos participantes\n",
        "regioes = set(participante[\"localizacao\"] for participante in participantes)\n",
        "# Usando um dicionário para categorizar afiliações\n",
        "afiliacoes = {}\n",
        "for participante in participantes:\n",
        "    afiliacao = participante[\"afiliacao\"]\n",
        "    if afiliacao not in afiliacoes:\n",
        "        afiliacoes[afiliacao] = []\n",
        "    afiliacoes[afiliacao].append(participante[\"nome\"])\n",
        "# Usando NumPy para analisar áreas de interesse\n",
        "areas_de_interesse = np.array([interesse for participante in participantes for interesse in\n",
        "participante[\"interesses\"]])\n",
        "interesses_unicos, contagem = np.unique(areas_de_interesse, return_counts=True)\n",
        "area_mais_popular = interesses_unicos[np.argmax(contagem)]\n",
        "# Resultados\n",
        "print(\"Regiões dos participantes:\", regioes)\n",
        "print(\"Afiliações dos participantes:\")\n",
        "for afiliacao, nomes in afiliacoes.items():\n",
        "    print(f\"{afiliacao}: {', '.join(nomes)}\")\n",
        "print(\"Área de interesse mais popular:\", area_mais_popular)\n",
        "#Resultado:\n"
      ],
      "metadata": {
        "colab": {
          "base_uri": "https://localhost:8080/"
        },
        "id": "K-0ew6TiVSao",
        "outputId": "f541de97-e438-450a-b722-f02e05d98ea0"
      },
      "execution_count": 30,
      "outputs": [
        {
          "output_type": "stream",
          "name": "stdout",
          "text": [
            "Regiões dos participantes: {'Brazil'}\n",
            "Afiliações dos participantes:\n",
            "Universidade anhanguera: Thiago, Lucas, Gabriel\n",
            "Área de interesse mais popular: IA\n"
          ]
        }
      ]
    }
  ]
}