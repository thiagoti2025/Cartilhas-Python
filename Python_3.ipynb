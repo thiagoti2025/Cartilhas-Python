{
  "nbformat": 4,
  "nbformat_minor": 0,
  "metadata": {
    "colab": {
      "provenance": [],
      "authorship_tag": "ABX9TyNT7T99p7JYKf2EeNmQIG3F",
      "include_colab_link": true
    },
    "kernelspec": {
      "name": "python3",
      "display_name": "Python 3"
    },
    "language_info": {
      "name": "python"
    }
  },
  "cells": [
    {
      "cell_type": "markdown",
      "metadata": {
        "id": "view-in-github",
        "colab_type": "text"
      },
      "source": [
        "<a href=\"https://colab.research.google.com/github/thiagoti2025/Cartilhas-Python/blob/main/Python_3.ipynb\" target=\"_parent\"><img src=\"https://colab.research.google.com/assets/colab-badge.svg\" alt=\"Open In Colab\"/></a>"
      ]
    },
    {
      "cell_type": "markdown",
      "source": [
        "# 1° Título 1\n",
        "## 2° Título 2\n",
        "### 3° Título 3\n",
        "#### 4° Título 4\n",
        "##### 5° Título 5\n",
        "###### 6° Título 6\n",
        "\n"
      ],
      "metadata": {
        "id": "jxEhpEMYChzS"
      }
    },
    {
      "cell_type": "markdown",
      "source": [],
      "metadata": {
        "id": "oeQCRGlpCOzW"
      }
    },
    {
      "cell_type": "code",
      "source": [
        "print(\"Meu primeiro código em Python. Usando 2 aspas\")\n",
        "print('Meu primeiro código em Python. Usando 1 aspa')\n",
        "print('Os dois jeitos funcionam')\n",
        "print('Mas sem as aspas não funciona!')\n",
        "print('Se colocar print=também não vai funcionar!')\n",
        "print(123)\n",
        "print('Com número també funciona')\n"
      ],
      "metadata": {
        "colab": {
          "base_uri": "https://localhost:8080/"
        },
        "id": "hh3dsoPEEL78",
        "outputId": "da1719cd-133f-4445-98be-906d4053a866"
      },
      "execution_count": 4,
      "outputs": [
        {
          "output_type": "stream",
          "name": "stdout",
          "text": [
            "Meu primeiro código em Python. Usando 2 aspas\n",
            "Meu primeiro código em Python. Usando 1 aspa\n",
            "Os dois jeitos funcionam\n",
            "Mas sem as aspas não funciona!\n",
            "Se colocar print=também não vai funcionar!\n",
            "123\n",
            "Com número també funciona\n"
          ]
        }
      ]
    }
  ]
}