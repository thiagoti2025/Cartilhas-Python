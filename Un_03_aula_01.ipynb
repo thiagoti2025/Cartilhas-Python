{
  "nbformat": 4,
  "nbformat_minor": 0,
  "metadata": {
    "colab": {
      "provenance": [],
      "authorship_tag": "ABX9TyPiuQahOVtmlC43YbtjmxSS",
      "include_colab_link": true
    },
    "kernelspec": {
      "name": "python3",
      "display_name": "Python 3"
    },
    "language_info": {
      "name": "python"
    }
  },
  "cells": [
    {
      "cell_type": "markdown",
      "metadata": {
        "id": "view-in-github",
        "colab_type": "text"
      },
      "source": [
        "<a href=\"https://colab.research.google.com/github/thiagoti2025/Cartilhas-Python/blob/main/Un_03_aula_01.ipynb\" target=\"_parent\"><img src=\"https://colab.research.google.com/assets/colab-badge.svg\" alt=\"Open In Colab\"/></a>"
      ]
    },
    {
      "cell_type": "code",
      "execution_count": null,
      "metadata": {
        "id": "KEtkBqrE7hA6"
      },
      "outputs": [],
      "source": [
        "import sqlite3\n",
        "\n",
        "#conectar ao banco de dados 9ou criar um novo)\n",
        "conn = sqlite3.connect('exemplo.db')\n",
        "\n",
        "#criar um objeto cursor\n",
        "cursor = conn.cursor()\n",
        "\n",
        "#definir o comando SQL para criar a tabela\n",
        "create_table = \"\"\"\n",
        "CREATE TABLE IF NOT EXISTS produtos (\n",
        "    id INTEGER PRIMARY KEY,\n",
        "    nome TEXT NOT NULL,\n",
        "    preco REAL NOT NULL,\n",
        "    ESTOQUE integer\n",
        ");\n",
        "\"\"\"\n",
        "\n",
        "#executar o comando SQL para criar a tabela\n",
        "cursor.execute(create_table)\n",
        "#confirmar as alterações (commit)\n",
        "conn.commit()\n",
        "\n",
        "#fechar a conexão com o banco de dados\n",
        "conn.close()"
      ]
    },
    {
      "cell_type": "markdown",
      "source": [],
      "metadata": {
        "id": "v71hmU_--OC5"
      }
    },
    {
      "cell_type": "code",
      "source": [
        "import sqlite3\n",
        "#conectando ao banco de dados\n",
        "conn = sqlite3.connect('exemplo.db')\n",
        "cursor = conn.cursor()\n",
        "#dados do novo produto\n",
        "novo_produto = ('camiseta', 19.99, 50)\n",
        "#comando SQL para inserir o novo produto na tabela\n",
        "inserir_produto = \"INSERT INTO produtos (nome, preco, estoque) VALUES (?, ?, ?)\"\n",
        "#executar o comando SQL para inserir o novo produto\n",
        "cursor.execute(inserir_produto, novo_produto)\n",
        "#confirmar as alterações (commit)\n",
        "conn.commit()\n",
        "#fechando a conexão\n",
        "conn.close()\n",
        "import sqlite3"
      ],
      "metadata": {
        "id": "lZ6jcKmL-Om8"
      },
      "execution_count": null,
      "outputs": []
    },
    {
      "cell_type": "markdown",
      "source": [],
      "metadata": {
        "id": "qAK3UgGo_nq6"
      }
    },
    {
      "cell_type": "code",
      "source": [
        "#conectando ao banco de dados\n",
        "conn = sqlite3.connect('exemplo.db')\n",
        "cursor = conn.cursor()\n",
        "#comando SQL para selecionar todos os produtos\n",
        "selecionar_produtos = \"SELECT * FROM produtos\"\n",
        "#executar o comando SQL para selecionar os produtos\n",
        "cursor.execute(selecionar_produtos)\n",
        "#obter todos os resultados da consulta\n",
        "produtos = cursor.fetchall()\n",
        "for produto in produtos:\n",
        "    print(produto)\n",
        "#fechando a conexão\n",
        "conn.close()"
      ],
      "metadata": {
        "colab": {
          "base_uri": "https://localhost:8080/"
        },
        "id": "n1PMFVAy_oOK",
        "outputId": "5693076d-b657-43b4-c72c-721947b431cd"
      },
      "execution_count": null,
      "outputs": [
        {
          "output_type": "stream",
          "name": "stdout",
          "text": [
            "(1, 'camiseta', 19.99, 50)\n"
          ]
        }
      ]
    },
    {
      "cell_type": "markdown",
      "source": [],
      "metadata": {
        "id": "TUFXCssQA0Pw"
      }
    },
    {
      "cell_type": "code",
      "source": [
        "import sqlite3\n",
        "#conectando ao banco de dados\n",
        "conn = sqlite3.connect('exemplo.db')\n",
        "cursor = conn.cursor()\n",
        "#novo preço e ID do produto a ser atualizado\n",
        "novo_preco = 24.99\n",
        "produto_id = 1 #suponha que queiramos atualizar o produto com ID 1\n",
        "atualizar_preco = \"UPDATE produtos SET preco = ? WHERE id = ?\"\n",
        "#executar o comando SQL para atualizar o preço do produto\n",
        "cursor.execute(atualizar_preco, (novo_preco, produto_id))\n",
        "#confirmar as alterações (commit)\n",
        "conn.commit()\n",
        "#fechan"
      ],
      "metadata": {
        "id": "0hn9WLVkA09r"
      },
      "execution_count": null,
      "outputs": []
    },
    {
      "cell_type": "markdown",
      "source": [],
      "metadata": {
        "id": "hvTvt5jIL8uV"
      }
    },
    {
      "cell_type": "code",
      "source": [
        "import sqlite3\n",
        "# CREATE (Criação da tabela e inserção de dados de exemplo)\n",
        "conn = sqlite3.connect('contatos.db')\n",
        "cursor = conn.cursor()\n",
        "cursor.execute('''\n",
        "    CREATE TABLE IF NOT EXISTS Contatos (\n",
        "        id INTEGER PRIMARY KEY AUTOINCREMENT,\n",
        "        nome TEXT,\n",
        "        email TEXT,\n",
        "        telefone TEXT\n",
        "    )\n",
        "''')\n",
        "dados_exemplo = [\n",
        "    ('João', 'joao@email.com', '123-456-7890'),\n",
        "    ('Maria', 'maria@email.com', '987-654-3210'),\n",
        "    ('Carlos', 'carlos@email.com', '555-555-5555')\n",
        "]\n",
        "cursor.executemany('INSERT INTO Contatos (nome, email, telefone) VALUES (?, ?, ?)',\n",
        "dados_exemplo)\n",
        "conn.commit()\n",
        "# READ (Leitura e exibição dos contatos)\n",
        "cursor.execute('SELECT * FROM Contatos')\n",
        "contatos = cursor.fetchall()\n",
        "print(\"Contatos:\")\n",
        "for contato in contatos:\n",
        "    print(contato)\n",
        "# UPDATE (Atualização do número de telefone do contato com ID 2)\n",
        "novo_telefone = '999-999-9999'\n",
        "contato_id = 2\n",
        "cursor.execute('UPDATE Contatos SET telefone = ? WHERE id = ?', (novo_telefone, contato_id))\n",
        "conn.commit()\n",
        "# DELETE (Exclusão do contato com ID 1)\n",
        "contato_id_para_excluir = 1\n",
        "cursor.execute('DELETE FROM Contatos WHERE id = ?', (contato_id_para_excluir,))\n",
        "conn.commit()\n",
        "# Fechar a conexão com o banco de dados\n",
        "conn.close()"
      ],
      "metadata": {
        "colab": {
          "base_uri": "https://localhost:8080/"
        },
        "id": "WQwmEWJBL9Uy",
        "outputId": "3bc6dd31-afa7-4f69-8b19-883ca8eb6c93"
      },
      "execution_count": null,
      "outputs": [
        {
          "output_type": "stream",
          "name": "stdout",
          "text": [
            "Contatos:\n",
            "(2, 'Maria', 'maria@email.com', '999-999-9999')\n",
            "(3, 'Carlos', 'carlos@email.com', '555-555-5555')\n",
            "(4, 'João', 'joao@email.com', '123-456-7890')\n",
            "(5, 'Maria', 'maria@email.com', '987-654-3210')\n",
            "(6, 'Carlos', 'carlos@email.com', '555-555-5555')\n",
            "(7, 'João', 'joao@email.com', '123-456-7890')\n",
            "(8, 'Maria', 'maria@email.com', '987-654-3210')\n",
            "(9, 'Carlos', 'carlos@email.com', '555-555-5555')\n"
          ]
        }
      ]
    },
    {
      "cell_type": "markdown",
      "source": [],
      "metadata": {
        "id": "aCJ7nbil_y2z"
      }
    },
    {
      "cell_type": "code",
      "source": [
        "import sqlite3\n",
        "\n",
        "# CREATE (Criação da tabela e inserção de dados de exemplo)\n",
        "conn = sqlite3.connect('contatos.db')\n",
        "cursor = conn.cursor()\n",
        "\n",
        "cursor.execute('''\n",
        "    CREATE TABLE IF NOT EXISTS Contatos (\n",
        "        id INTEGER PRIMARY KEY AUTOINCREMENT,\n",
        "        nome TEXT,\n",
        "        email TEXT,\n",
        "        telefone TEXT\n",
        "    )\n",
        "''')\n",
        "\n",
        "# --- MODIFICAÇÃO: Adiciona a coluna 'nascimento' se ela ainda não existir ---\n",
        "try:\n",
        "    cursor.execute('ALTER TABLE Contatos ADD COLUMN nascimento TEXT')\n",
        "    print(\"Coluna 'nascimento' adicionada com sucesso!\")\n",
        "except sqlite3.OperationalError:\n",
        "    # Ignora o erro se a coluna já existir\n",
        "    print(\"A coluna 'nascimento' já existe. Continuando...\")\n",
        "\n",
        "dados_exemplo = [\n",
        "    ('João', 'joao@email.com', '123-456-7890', '1990-01-15'),\n",
        "    ('Maria', 'maria@email.com', '987-654-3210', '1988-05-22'),\n",
        "    ('Carlos', 'carlos@email.com', '555-555-5555', '1992-11-30')\n",
        "]\n",
        "\n",
        "# Insere os dados, incluindo a nova coluna\n",
        "cursor.executemany('INSERT INTO Contatos (nome, email, telefone, nascimento) VALUES (?, ?, ?, ?)',\n",
        "dados_exemplo)\n",
        "conn.commit()\n",
        "\n",
        "# --- MODIFICAÇÃO: Lendo dados específicos e ordenando ---\n",
        "print(\"\\n--- Contatos (ordenados por nome) ---\")\n",
        "cursor.execute('SELECT nome, telefone FROM Contatos ORDER BY nome ASC')\n",
        "contatos = cursor.fetchall()\n",
        "for contato in contatos:\n",
        "    print(f\"Nome: {contato[0]}, Telefone: {contato[1]}\")\n",
        "\n",
        "# UPDATE (Atualização do número de telefone do contato com ID 2)\n",
        "novo_telefone = '999-999-9999'\n",
        "contato_id = 2\n",
        "cursor.execute('UPDATE Contatos SET telefone = ? WHERE id = ?', (novo_telefone, contato_id))\n",
        "conn.commit()\n",
        "print(f\"\\nTelefone do contato com ID {contato_id} atualizado com sucesso.\")\n",
        "\n",
        "# DELETE (Exclusão do contato com ID 1)\n",
        "contato_id_para_excluir = 1\n",
        "cursor.execute('DELETE FROM Contatos WHERE id = ?', (contato_id_para_excluir,))\n",
        "conn.commit()\n",
        "print(f\"Contato com ID {contato_id_para_excluir} excluído com sucesso.\")\n",
        "\n",
        "# Fechar a conexão com o banco de dados\n",
        "conn.close()"
      ],
      "metadata": {
        "colab": {
          "base_uri": "https://localhost:8080/"
        },
        "id": "RPpVwiB__zWn",
        "outputId": "3801cb71-0d75-4058-cba2-585ae83feec3"
      },
      "execution_count": null,
      "outputs": [
        {
          "output_type": "stream",
          "name": "stdout",
          "text": [
            "Coluna 'nascimento' adicionada com sucesso!\n",
            "\n",
            "--- Contatos (ordenados por nome) ---\n",
            "Nome: Carlos, Telefone: 555-555-5555\n",
            "Nome: Carlos, Telefone: 555-555-5555\n",
            "Nome: Carlos, Telefone: 555-555-5555\n",
            "Nome: Carlos, Telefone: 555-555-5555\n",
            "Nome: João, Telefone: 123-456-7890\n",
            "Nome: João, Telefone: 123-456-7890\n",
            "Nome: João, Telefone: 123-456-7890\n",
            "Nome: Maria, Telefone: 999-999-9999\n",
            "Nome: Maria, Telefone: 987-654-3210\n",
            "Nome: Maria, Telefone: 987-654-3210\n",
            "Nome: Maria, Telefone: 987-654-3210\n",
            "\n",
            "Telefone do contato com ID 2 atualizado com sucesso.\n",
            "Contato com ID 1 excluído com sucesso.\n"
          ]
        }
      ]
    },
    {
      "cell_type": "markdown",
      "source": [],
      "metadata": {
        "id": "UGKSVmRPCECf"
      }
    },
    {
      "cell_type": "code",
      "source": [
        "import sqlite3\n",
        "\n",
        "# --- ETAPA 1: CONEXÃO E CRIAÇÃO DA TABELA ---\n",
        "# Conecta-se ou cria o arquivo do banco de dados\n",
        "conn = sqlite3.connect('contatos.db')\n",
        "cursor = conn.cursor()\n",
        "\n",
        "# Cria a tabela de Contatos se ela ainda não existir\n",
        "cursor.execute('''\n",
        "    CREATE TABLE IF NOT EXISTS Contatos (\n",
        "        id INTEGER PRIMARY KEY AUTOINCREMENT,\n",
        "        nome TEXT,\n",
        "        email TEXT,\n",
        "        telefone TEXT\n",
        "    )\n",
        "''')\n",
        "\n",
        "# --- ETAPA 2: ADIÇÃO DE NOVA COLUNA ---\n",
        "# Adiciona a coluna 'nascimento' de forma segura\n",
        "try:\n",
        "    cursor.execute('ALTER TABLE Contatos ADD COLUMN nascimento TEXT')\n",
        "    print(\"Coluna 'nascimento' adicionada com sucesso!\")\n",
        "except sqlite3.OperationalError:\n",
        "    # Se a coluna já existir, o código ignora o erro e continua\n",
        "    print(\"A coluna 'nascimento' já existe. Continuando...\")\n",
        "\n",
        "# --- ETAPA 3: INSERÇÃO DE DADOS ---\n",
        "# Dados de exemplo com a nova coluna de nascimento\n",
        "dados_exemplo = [\n",
        "    ('João', 'joao@email.com', '123-456-7890', '1990-01-15'),\n",
        "    ('Maria', 'maria@email.com', '987-654-3210', '1988-05-22'),\n",
        "    ('Carlos', 'carlos@email.com', '555-555-5555', '1992-11-30')\n",
        "]\n",
        "\n",
        "# Insere os dados na tabela\n",
        "cursor.executemany('INSERT INTO Contatos (nome, email, telefone, nascimento) VALUES (?, ?, ?, ?)',\n",
        "dados_exemplo)\n",
        "conn.commit()\n",
        "\n",
        "# --- ETAPA 4: LEITURA E EXIBIÇÃO DOS DADOS ---\n",
        "# Seleciona nome, telefone e nascimento, e os ordena por nome\n",
        "print(\"\\n--- Contatos (lista completa) ---\")\n",
        "cursor.execute('SELECT nome, telefone, nascimento FROM Contatos ORDER BY nome ASC')\n",
        "contatos = cursor.fetchall()\n",
        "for contato in contatos:\n",
        "    print(f\"Nome: {contato[0]}, Telefone: {contato[1]}, Nascimento: {contato[2]}\")\n",
        "\n",
        "# --- ETAPA 5: ATUALIZAÇÃO DE DADOS ---\n",
        "# Atualiza o telefone do contato com ID 2\n",
        "novo_telefone = '999-999-9999'\n",
        "contato_id = 2\n",
        "cursor.execute('UPDATE Contatos SET telefone = ? WHERE id = ?', (novo_telefone, contato_id))\n",
        "conn.commit()\n",
        "print(f\"\\nTelefone do contato com ID {contato_id} atualizado com sucesso.\")\n",
        "\n",
        "# --- ETAPA 6: EXCLUSÃO DE DADOS ---\n",
        "# Exclui o contato com ID 1\n",
        "contato_id_para_excluir = 1\n",
        "cursor.execute('DELETE FROM Contatos WHERE id = ?', (contato_id_para_excluir,))\n",
        "conn.commit()\n",
        "print(f\"Contato com ID {contato_id_para_excluir} excluído com sucesso.\")\n",
        "\n",
        "# --- ETAPA 7: FECHAR CONEXÃO ---\n",
        "# Fecha a conexão com o banco de dados\n",
        "conn.close()"
      ],
      "metadata": {
        "colab": {
          "base_uri": "https://localhost:8080/"
        },
        "id": "X6bQtZ-MCEgv",
        "outputId": "7ee6ac92-8907-4021-be46-dea342e1bec4"
      },
      "execution_count": null,
      "outputs": [
        {
          "output_type": "stream",
          "name": "stdout",
          "text": [
            "A coluna 'nascimento' já existe. Continuando...\n",
            "\n",
            "--- Contatos (lista completa) ---\n",
            "Nome: Carlos, Telefone: 555-555-5555, Nascimento: None\n",
            "Nome: Carlos, Telefone: 555-555-5555, Nascimento: None\n",
            "Nome: Carlos, Telefone: 555-555-5555, Nascimento: None\n",
            "Nome: Carlos, Telefone: 555-555-5555, Nascimento: 1992-11-30\n",
            "Nome: Carlos, Telefone: 555-555-5555, Nascimento: 1992-11-30\n",
            "Nome: João, Telefone: 123-456-7890, Nascimento: None\n",
            "Nome: João, Telefone: 123-456-7890, Nascimento: None\n",
            "Nome: João, Telefone: 123-456-7890, Nascimento: 1990-01-15\n",
            "Nome: João, Telefone: 123-456-7890, Nascimento: 1990-01-15\n",
            "Nome: Maria, Telefone: 999-999-9999, Nascimento: None\n",
            "Nome: Maria, Telefone: 987-654-3210, Nascimento: None\n",
            "Nome: Maria, Telefone: 987-654-3210, Nascimento: None\n",
            "Nome: Maria, Telefone: 987-654-3210, Nascimento: 1988-05-22\n",
            "Nome: Maria, Telefone: 987-654-3210, Nascimento: 1988-05-22\n",
            "\n",
            "Telefone do contato com ID 2 atualizado com sucesso.\n",
            "Contato com ID 1 excluído com sucesso.\n"
          ]
        }
      ]
    }
  ]
}